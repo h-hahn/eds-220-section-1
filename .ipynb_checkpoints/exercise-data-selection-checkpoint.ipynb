{
 "cells": [
  {
   "cell_type": "markdown",
   "id": "6d947dd1-1a12-4d83-9326-62154a91183e",
   "metadata": {},
   "source": [
    "#### The Data\n",
    "\n",
    "Description: This dataset contains occurrence records of prey arthopods in California Drylands and associated climate and environmental data.\n",
    "\n",
    "Citation: Rachel King, Jenna Braun, Michael Westphal, & CJ Lortie. (2023). Compiled occurrence records for prey items of listed species found in California drylands with associated environmental data. Knowledge Network for Biocomplexity. doi:10.5063/F1VM49RH.\n",
    "\n",
    "Data accessed: 10/5/2023\n"
   ]
  }
 ],
 "metadata": {
  "kernelspec": {
   "display_name": "Anaconda 3 (Base)",
   "language": "python",
   "name": "base"
  },
  "language_info": {
   "codemirror_mode": {
    "name": "ipython",
    "version": 3
   },
   "file_extension": ".py",
   "mimetype": "text/x-python",
   "name": "python",
   "nbconvert_exporter": "python",
   "pygments_lexer": "ipython3",
   "version": "3.9.13"
  }
 },
 "nbformat": 4,
 "nbformat_minor": 5
}
